{
  "nbformat": 4,
  "nbformat_minor": 0,
  "metadata": {
    "colab": {
      "provenance": []
    },
    "kernelspec": {
      "name": "python3",
      "display_name": "Python 3"
    },
    "language_info": {
      "name": "python"
    }
  },
  "cells": [
    {
      "cell_type": "markdown",
      "source": [
        "# **TP01: Régression linéaire**\n"
      ],
      "metadata": {
        "id": "-CIaWCRyjrBD"
      }
    },
    {
      "cell_type": "code",
      "source": [
        "import matplotlib.pyplot as plt\n",
        "from sklearn.datasets import make_regression\n",
        "import numpy as np"
      ],
      "metadata": {
        "id": "FfqIiRQTYjRP"
      },
      "execution_count": null,
      "outputs": []
    },
    {
      "cell_type": "markdown",
      "source": [
        "## **Partie 1: Regression simple**"
      ],
      "metadata": {
        "id": "dFcOsusLkvaH"
      }
    },
    {
      "cell_type": "markdown",
      "source": [
        "**METHODE1**"
      ],
      "metadata": {
        "id": "L_I1GB_vitDq"
      }
    },
    {
      "cell_type": "markdown",
      "source": [
        "Génération de l'ensemble D:"
      ],
      "metadata": {
        "id": "k87tAEdLmVzv"
      }
    },
    {
      "cell_type": "code",
      "execution_count": null,
      "metadata": {
        "colab": {
          "base_uri": "https://localhost:8080/",
          "height": 282
        },
        "id": "HLw-QKwDV32v",
        "outputId": "5ba95be7-14ba-4faf-99be-46ecc0bc604b"
      },
      "outputs": [
        {
          "output_type": "execute_result",
          "data": {
            "text/plain": [
              "<matplotlib.collections.PathCollection at 0x7fd78730f1d0>"
            ]
          },
          "metadata": {},
          "execution_count": 94
        },
        {
          "output_type": "display_data",
          "data": {
            "text/plain": [
              "<Figure size 432x288 with 1 Axes>"
            ],
            "image/png": "[encoded data removed]"
          },
          "metadata": {
            "needs_background": "light"
          }
        }
      ],
      "source": [
        "x,y=make_regression(n_samples=100,n_features=1,noise=3)\n",
        "plt.scatter(x,y)"
      ]
    },
    {
      "cell_type": "markdown",
      "source": [
        "Calcul des différentes valeurs caractérisant l'ensemble de données"
      ],
      "metadata": {
        "id": "t6JcgPd1Nzmj"
      }
    },
    {
      "cell_type": "code",
      "source": [],
      "metadata": {
        "colab": {
          "base_uri": "https://localhost:8080/",
          "height": 368
        },
        "id": "ST5CVBukYOUK",
        "outputId": "c39dd14c-9721-4883-c7d6-26753406dc8e",
        "cellView": "form"
      },
      "execution_count": null,
      "outputs": [
        {
          "output_type": "stream",
          "name": "stdout",
          "text": [
            "Moyenne: 0.01641074086283327\n",
            "Variance: 1.039509618975965\n",
            "Ecart-type: 1.0195634452921334\n",
            "Covariance: 1.039509618975965\n",
            "Coefficient de corrélation: 0.997016696520347\n"
          ]
        },
        {
          "output_type": "display_data",
          "data": {
            "text/plain": [
              "<Figure size 432x288 with 1 Axes>"
            ],
            "image/png": "[encoded data removed]"
          },
          "metadata": {
            "needs_background": "light"
          }
        }
      ]
    },
    {
      "cell_type": "markdown",
      "source": [
        "**METHODE2**"
      ],
      "metadata": {
        "id": "knuem-dKiyZ-"
      }
    },
    {
      "cell_type": "markdown",
      "source": [
        "**Fonction model(X,theta)**"
      ],
      "metadata": {
        "id": "qN6rNnH6IQav"
      }
    },
    {
      "cell_type": "code",
      "source": [
        "y=y.reshape(y.shape[0],1)\n",
        "theta=np.random.randn(2,1)\n",
        "X=np.hstack((x,np.ones(x.shape)))\n",
        "def model(X,theta):\n",
        "  matrice=X.dot(theta)  \n",
        "  return matrice"
      ],
      "metadata": {
        "id": "gBI1B3zcihFB"
      },
      "execution_count": null,
      "outputs": []
    },
    {
      "cell_type": "markdown",
      "source": [
        "**Fonction grad(X, y, theta)**"
      ],
      "metadata": {
        "id": "LrbuT6amIlXn"
      }
    },
    {
      "cell_type": "code",
      "source": [
        "def grad(X,Y,theta):\n",
        "  m=len(y)\n",
        "  return  X.T.dot(model(X,theta)-Y)*(1/m)"
      ],
      "metadata": {
        "id": "phqSTCY6kOs1"
      },
      "execution_count": null,
      "outputs": []
    },
    {
      "cell_type": "code",
      "source": [
        "gradient=grad(X,y,theta)\n",
        "gradient"
      ],
      "metadata": {
        "colab": {
          "base_uri": "https://localhost:8080/"
        },
        "id": "2ie8nzb3SNGK",
        "outputId": "659c6793-dbc7-4b52-8be5-cc56135e2e3a"
      },
      "execution_count": null,
      "outputs": [
        {
          "output_type": "execute_result",
          "data": {
            "text/plain": [
              "array([[-42.67029157],\n",
              "       [  1.26614513]])"
            ]
          },
          "metadata": {},
          "execution_count": 98
        }
      ]
    },
    {
      "cell_type": "markdown",
      "source": [
        "**Fonction descente de gradient**"
      ],
      "metadata": {
        "id": "Y7_zhKvzO_-B"
      }
    },
    {
      "cell_type": "code",
      "source": [
        "def descente_grad(X,Y,theta,pas,iterations):\n",
        "    for i in range(iterations):\n",
        "        theta=theta-pas*grad(X,Y,theta)\n",
        "    return theta"
      ],
      "metadata": {
        "id": "X_LYZrlK1wED"
      },
      "execution_count": null,
      "outputs": []
    },
    {
      "cell_type": "code",
      "source": [
        "theta=descente_grad(X,y,theta,0.001,500000)\n",
        "theta"
      ],
      "metadata": {
        "colab": {
          "base_uri": "https://localhost:8080/"
        },
        "id": "9VDD9FZ11zJP",
        "outputId": "e806b424-7c5d-4ec0-a761-5cb1b1ac5cf1"
      },
      "execution_count": null,
      "outputs": [
        {
          "output_type": "execute_result",
          "data": {
            "text/plain": [
              "array([[40.69354926],\n",
              "       [-0.41411318]])"
            ]
          },
          "metadata": {},
          "execution_count": 100
        }
      ]
    },
    {
      "cell_type": "markdown",
      "source": [
        "**Représentation de la regression linéaire**"
      ],
      "metadata": {
        "id": "DHvV5WgqPR98"
      }
    },
    {
      "cell_type": "code",
      "source": [
        "plt.title('méthode2')\n",
        "plt.scatter(X[:,0],y)\n",
        "plt.plot(X[:,0],theta[0]*X[:,0]+theta[1],c='red')"
      ],
      "metadata": {
        "colab": {
          "base_uri": "https://localhost:8080/",
          "height": 298
        },
        "id": "wCO_Z0Iu13u5",
        "outputId": "134b30ea-1225-4a72-a753-acb73031ddad"
      },
      "execution_count": null,
      "outputs": [
        {
          "output_type": "execute_result",
          "data": {
            "text/plain": [
              "[<matplotlib.lines.Line2D at 0x7fd787271250>]"
            ]
          },
          "metadata": {},
          "execution_count": 101
        },
        {
          "output_type": "display_data",
          "data": {
            "text/plain": [
              "<Figure size 432x288 with 1 Axes>"
            ],
            "image/png": "[encoded data removed]"
          },
          "metadata": {
            "needs_background": "light"
          }
        }
      ]
    },
    {
      "cell_type": "markdown",
      "source": [
        "**Calcul du coefficient de détermination**"
      ],
      "metadata": {
        "id": "aPoLB9w6PKSP"
      }
    },
    {
      "cell_type": "markdown",
      "source": [
        "Sans utiliser de la bibliothèque sickit learn"
      ],
      "metadata": {
        "id": "MRUP7z98Pf9b"
      }
    },
    {
      "cell_type": "code",
      "source": [
        "f=model(X,theta)\n",
        "RSE=sum((f-y)**2) /sum((y-moyy)**2)\n",
        "R=1-RSE\n",
        "print(f\"le cofficient de détermination est: {R}\")"
      ],
      "metadata": {
        "id": "fOp0OsPX4SIF",
        "colab": {
          "base_uri": "https://localhost:8080/"
        },
        "outputId": "a1f93bb0-b1cd-404e-b47f-571911fcb9c7"
      },
      "execution_count": null,
      "outputs": [
        {
          "output_type": "stream",
          "name": "stdout",
          "text": [
            "le cofficient de détermination est: [0.99404229]\n"
          ]
        }
      ]
    },
    {
      "cell_type": "markdown",
      "source": [
        "En utilisant la bibliothèque sckit learn"
      ],
      "metadata": {
        "id": "iCdmCvMsPduI"
      }
    },
    {
      "cell_type": "code",
      "source": [
        "from sklearn.linear_model import LinearRegression\n",
        "Regression_model=LinearRegression()\n",
        "Regression_model.fit(x,y)\n",
        "R=Regression_model.score(x,y)\n",
        "print(f\"le cofficient de détermination est: {R}\")"
      ],
      "metadata": {
        "colab": {
          "base_uri": "https://localhost:8080/"
        },
        "id": "iXoRxHS1XuSA",
        "outputId": "bb0af935-d921-451a-8d69-f6f4954e62e9"
      },
      "execution_count": null,
      "outputs": [
        {
          "output_type": "stream",
          "name": "stdout",
          "text": [
            "le cofficient de détermination est: 0.994042293140345\n"
          ]
        }
      ]
    },
    {
      "cell_type": "markdown",
      "source": [
        "## **Partie 2: Regression multiple**"
      ],
      "metadata": {
        "id": "Vz0b6sbFObXd"
      }
    },
    {
      "cell_type": "markdown",
      "source": [
        "**Génération du jeu de données** "
      ],
      "metadata": {
        "id": "gt-dCmKDQQSR"
      }
    },
    {
      "cell_type": "code",
      "source": [
        "#génération du jeu de données \n",
        "x,y=make_regression(n_samples=100,n_features=5,noise=3)\n",
        "\n",
        "#ajouter a x une colonne remplie de 1 \n",
        "x=np.concatenate((x,np.ones((x.shape[0],1))),axis=1)\n",
        "x\n"
      ],
      "metadata": {
        "id": "WMalnyalOkjz"
      },
      "execution_count": null,
      "outputs": []
    },
    {
      "cell_type": "markdown",
      "source": [
        "**solution 1** "
      ],
      "metadata": {
        "id": "_wAFBFGwPBKT"
      }
    },
    {
      "cell_type": "code",
      "source": [
        "#calcul des coefficients \n",
        "B = np.linalg.inv(x.T.dot(x)).dot(x.T).dot(y)\n",
        "prediction = x.dot(B)\n",
        "prediction.reshape(prediction.shape[0], 1)\n",
        "prediction"
      ],
      "metadata": {
        "id": "kdfpPbuzOlzD"
      },
      "execution_count": null,
      "outputs": []
    },
    {
      "cell_type": "code",
      "source": [
        "R = sum((prediction - np.mean(y))**2)/sum((y-np.mean(y))**2)\n",
        "R"
      ],
      "metadata": {
        "colab": {
          "base_uri": "https://localhost:8080/"
        },
        "id": "ST1VuJAXQc8c",
        "outputId": "77f0783d-e58d-4df7-f928-45f4f524389f"
      },
      "execution_count": null,
      "outputs": [
        {
          "output_type": "execute_result",
          "data": {
            "text/plain": [
              "array([0.99382198])"
            ]
          },
          "metadata": {},
          "execution_count": 105
        }
      ]
    },
    {
      "cell_type": "markdown",
      "source": [
        "**solution 2 Descente de gradient dans le cas multiple**"
      ],
      "metadata": {
        "id": "piO0HQ1RQZSU"
      }
    },
    {
      "cell_type": "code",
      "source": [
        "(2*(x.T.dot(y))).shape"
      ],
      "metadata": {
        "colab": {
          "base_uri": "https://localhost:8080/"
        },
        "id": "BECho_MWIH_S",
        "outputId": "a5069f2a-0a69-436a-fb56-4ceec244a090"
      },
      "execution_count": null,
      "outputs": [
        {
          "output_type": "execute_result",
          "data": {
            "text/plain": [
              "(6,)"
            ]
          },
          "metadata": {},
          "execution_count": 61
        }
      ]
    },
    {
      "cell_type": "code",
      "source": [
        "(x.T.dot(x).dot(theta)).shape"
      ],
      "metadata": {
        "colab": {
          "base_uri": "https://localhost:8080/"
        },
        "id": "hqp8j3wLIXLz",
        "outputId": "171b371e-06bd-4209-add9-a09968463ed9"
      },
      "execution_count": null,
      "outputs": [
        {
          "output_type": "execute_result",
          "data": {
            "text/plain": [
              "(6, 1)"
            ]
          },
          "metadata": {},
          "execution_count": 62
        }
      ]
    },
    {
      "cell_type": "code",
      "source": [
        "theta=np.random.randn(6,1)\n",
        "theta"
      ],
      "metadata": {
        "colab": {
          "base_uri": "https://localhost:8080/"
        },
        "id": "DTMpVe7tA7Yq",
        "outputId": "b8413a65-cbec-4f95-bbed-576e1284db35"
      },
      "execution_count": null,
      "outputs": [
        {
          "output_type": "execute_result",
          "data": {
            "text/plain": [
              "array([[-3.1182376 ],\n",
              "       [-1.02878971],\n",
              "       [-1.45498546],\n",
              "       [-0.7944503 ],\n",
              "       [-1.16478531],\n",
              "       [ 0.37824076]])"
            ]
          },
          "metadata": {},
          "execution_count": 55
        }
      ]
    },
    {
      "cell_type": "markdown",
      "source": [
        "**Fonction gradient dans le cas multiple**"
      ],
      "metadata": {
        "id": "MBQcMbK3Q3Wz"
      }
    },
    {
      "cell_type": "code",
      "source": [
        "def grad_multiple(x,y,theta):\n",
        "  return (-2*(x.T.dot(y))).reshape(6,1)+2*(x.T.dot(x).dot(theta)) "
      ],
      "metadata": {
        "id": "TIISRSRcVdM4"
      },
      "execution_count": null,
      "outputs": []
    },
    {
      "cell_type": "code",
      "source": [
        "grad_multiple(x,y,theta)"
      ],
      "metadata": {
        "colab": {
          "base_uri": "https://localhost:8080/"
        },
        "id": "lusTAX0IAUYB",
        "outputId": "b6425c69-7ef8-4151-a74b-c03f2d247956"
      },
      "execution_count": null,
      "outputs": [
        {
          "output_type": "execute_result",
          "data": {
            "text/plain": [
              "array([[-17626.89264158],\n",
              "       [-11635.31903922],\n",
              "       [-10432.97297652],\n",
              "       [-10422.2403395 ],\n",
              "       [-22598.79431805],\n",
              "       [  3221.19433522]])"
            ]
          },
          "metadata": {},
          "execution_count": 64
        }
      ]
    },
    {
      "cell_type": "markdown",
      "source": [
        "**Fonction descente de gradient dans le cas multiple**"
      ],
      "metadata": {
        "id": "PC0vpR74Q-Nc"
      }
    },
    {
      "cell_type": "code",
      "source": [
        "def descente_grad_multiple(X,Y,theta,pas,iterations):\n",
        "  for i in range(iterations):\n",
        "        theta=theta-pas*grad_multiple(X,Y,theta)\n",
        "  return theta"
      ],
      "metadata": {
        "id": "NuFUCvoiVlrN"
      },
      "execution_count": null,
      "outputs": []
    },
    {
      "cell_type": "code",
      "source": [
        "theta=descente_grad_multiple(x,y,theta,0.001,500000)"
      ],
      "metadata": {
        "id": "dtk12DSddvUa"
      },
      "execution_count": null,
      "outputs": []
    },
    {
      "cell_type": "code",
      "source": [
        "theta"
      ],
      "metadata": {
        "colab": {
          "base_uri": "https://localhost:8080/"
        },
        "id": "9L-_1XAogIEn",
        "outputId": "d04f7ca2-fee3-4b93-d070-6b57bc034e28"
      },
      "execution_count": null,
      "outputs": [
        {
          "output_type": "execute_result",
          "data": {
            "text/plain": [
              "array([[80.04568268],\n",
              "       [41.20017074],\n",
              "       [47.15341282],\n",
              "       [70.58807388],\n",
              "       [92.72979616],\n",
              "       [-0.17737614]])"
            ]
          },
          "metadata": {},
          "execution_count": 67
        }
      ]
    },
    {
      "cell_type": "code",
      "source": [
        "model(x,theta)"
      ],
      "metadata": {
        "id": "a8-dEoerB1U6"
      },
      "execution_count": null,
      "outputs": []
    },
    {
      "cell_type": "markdown",
      "source": [
        "**Calcul du coefficient R**"
      ],
      "metadata": {
        "id": "E99l58aFRDzg"
      }
    },
    {
      "cell_type": "markdown",
      "source": [
        "sans utiliser la bibliothèque "
      ],
      "metadata": {
        "id": "C1mTOJ0aRG2G"
      }
    },
    {
      "cell_type": "code",
      "source": [
        "R = sum((model(X,theta) - np.mean(y))**2)/sum((y-np.mean(y))**2)\n",
        "R"
      ],
      "metadata": {
        "colab": {
          "base_uri": "https://localhost:8080/"
        },
        "id": "dn61lBLuJGwv",
        "outputId": "5e677b1d-836d-4cdb-f1b0-d1dd45401b6b"
      },
      "execution_count": null,
      "outputs": [
        {
          "output_type": "execute_result",
          "data": {
            "text/plain": [
              "array([0.99907531])"
            ]
          },
          "metadata": {},
          "execution_count": 87
        }
      ]
    },
    {
      "cell_type": "markdown",
      "source": [
        "en utilisant la bibliothèque"
      ],
      "metadata": {
        "id": "0SQjXWMjRKrH"
      }
    },
    {
      "cell_type": "code",
      "source": [
        "from sklearn.linear_model import LinearRegression\n",
        "\n",
        "model_sklearn = LinearRegression()\n",
        "model_sklearn.fit(x,y)\n",
        "model_sklearn.score(x,y)"
      ],
      "metadata": {
        "colab": {
          "base_uri": "https://localhost:8080/"
        },
        "id": "yZC7UrBJLq__",
        "outputId": "4ee35a98-c732-484b-fcc1-014aea7adc76"
      },
      "execution_count": null,
      "outputs": [
        {
          "output_type": "execute_result",
          "data": {
            "text/plain": [
              "0.9990753149383946"
            ]
          },
          "metadata": {},
          "execution_count": 89
        }
      ]
    }
  ]
}